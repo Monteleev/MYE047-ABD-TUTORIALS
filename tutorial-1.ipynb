{
 "cells": [
  {
   "cell_type": "code",
   "execution_count": 1,
   "id": "4758fdd9",
   "metadata": {},
   "outputs": [],
   "source": [
    "import random\n",
    "def Rand(start, end, num):\n",
    "    res = []\n",
    " \n",
    "    for j in range(num):\n",
    "        res.append(random.randint(start, end))\n",
    " \n",
    "    return res"
   ]
  },
  {
   "cell_type": "code",
   "execution_count": 10,
   "id": "850916a6",
   "metadata": {},
   "outputs": [],
   "source": [
    "num = 10\n",
    "start = 0\n",
    "end = 40\n",
    "\n",
    "L1 = Rand(start, end, num)\n",
    "L2 = Rand(start, end, num)"
   ]
  },
  {
   "cell_type": "code",
   "execution_count": 11,
   "id": "9910ee47",
   "metadata": {},
   "outputs": [
    {
     "name": "stdout",
     "output_type": "stream",
     "text": [
      "Items in L1: [6, 34, 19, 29, 23, 15, 21, 19, 17, 19]\n",
      "Items in L2: [15, 9, 27, 20, 38, 33, 19, 14, 10, 28]\n"
     ]
    }
   ],
   "source": [
    "print(\"Items in L1:\",L1)\n",
    "\n",
    "print(\"Items in L2:\",L2)"
   ]
  },
  {
   "cell_type": "code",
   "execution_count": 12,
   "id": "544d3651",
   "metadata": {},
   "outputs": [
    {
     "name": "stdout",
     "output_type": "stream",
     "text": [
      "[6, 15, 17, 19, 19, 19, 21, 23, 29, 34] [9, 10, 14, 15, 19, 20, 27, 28, 33, 38]\n",
      "2 16 0.125\n"
     ]
    }
   ],
   "source": [
    "pos1 = 0\n",
    "pos2 = 0\n",
    "intersectionCounter = 0\n",
    "\n",
    "L1.sort()\n",
    "L2.sort()\n",
    "\n",
    "lenL1 = len(set(L1))\n",
    "lenL2 = len(set(L2))\n",
    "\n",
    "unionLen = lenL1 + lenL2\n",
    "\n",
    "while(pos1 < lenL1 and pos2 < lenL2):\n",
    "    if(L1[pos1] == L2[pos2]):\n",
    "        intersectionCounter+=1\n",
    "        unionLen-=1\n",
    "        pos1+=1\n",
    "        pos2+=1\n",
    "    else:\n",
    "        if(L1[pos1] < L2[pos2]):\n",
    "            pos1+=1\n",
    "        else:\n",
    "            pos2+=1\n",
    "            \n",
    "print(intersectionCounter,unionLen,intersectionCounter/unionLen)"
   ]
  },
  {
   "cell_type": "code",
   "execution_count": 13,
   "id": "09724891",
   "metadata": {},
   "outputs": [
    {
     "name": "stdout",
     "output_type": "stream",
     "text": [
      "2 16 0.125\n"
     ]
    }
   ],
   "source": [
    "s1 = set(L1)\n",
    "s2 = set(L2)\n",
    "inters = len(s1.intersection(s2))\n",
    "un = len(s1.union(s2))\n",
    "print(inters,un,inters/un)"
   ]
  },
  {
   "cell_type": "code",
   "execution_count": null,
   "id": "09008160",
   "metadata": {},
   "outputs": [],
   "source": []
  }
 ],
 "metadata": {
  "kernelspec": {
   "display_name": "Python 3 (ipykernel)",
   "language": "python",
   "name": "python3"
  },
  "language_info": {
   "codemirror_mode": {
    "name": "ipython",
    "version": 3
   },
   "file_extension": ".py",
   "mimetype": "text/x-python",
   "name": "python",
   "nbconvert_exporter": "python",
   "pygments_lexer": "ipython3",
   "version": "3.9.9"
  }
 },
 "nbformat": 4,
 "nbformat_minor": 5
}
