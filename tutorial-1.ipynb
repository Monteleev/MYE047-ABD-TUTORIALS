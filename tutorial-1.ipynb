{
 "cells": [
  {
   "cell_type": "markdown",
   "id": "b89c3844",
   "metadata": {},
   "source": [
    "# Tutorial 1\n"
   ]
  },
  {
   "cell_type": "code",
   "execution_count": 1,
   "id": "9db605ed",
   "metadata": {},
   "outputs": [],
   "source": [
    "import random\n",
    "import collections"
   ]
  },
  {
   "cell_type": "code",
   "execution_count": 2,
   "id": "2a24911c",
   "metadata": {
    "scrolled": true
   },
   "outputs": [
    {
     "name": "stdout",
     "output_type": "stream",
     "text": [
      "The frozen set is: frozenset({1, 2, 3, 4, 5})\n",
      "The empty frozen set is: frozenset()\n"
     ]
    },
    {
     "ename": "AttributeError",
     "evalue": "'frozenset' object has no attribute 'add'",
     "output_type": "error",
     "traceback": [
      "\u001b[1;31m---------------------------------------------------------------------------\u001b[0m",
      "\u001b[1;31mAttributeError\u001b[0m                            Traceback (most recent call last)",
      "Input \u001b[1;32mIn [2]\u001b[0m, in \u001b[0;36m<module>\u001b[1;34m\u001b[0m\n\u001b[0;32m      5\u001b[0m \u001b[38;5;28mprint\u001b[39m(\u001b[38;5;124m'\u001b[39m\u001b[38;5;124mThe empty frozen set is:\u001b[39m\u001b[38;5;124m'\u001b[39m, \u001b[38;5;28mfrozenset\u001b[39m())\n\u001b[0;32m      7\u001b[0m \u001b[38;5;66;03m# frozensets are immutable\u001b[39;00m\n\u001b[1;32m----> 8\u001b[0m \u001b[43mfSet\u001b[49m\u001b[38;5;241;43m.\u001b[39;49m\u001b[43madd\u001b[49m(\u001b[38;5;124m'\u001b[39m\u001b[38;5;124mv\u001b[39m\u001b[38;5;124m'\u001b[39m)\n",
      "\u001b[1;31mAttributeError\u001b[0m: 'frozenset' object has no attribute 'add'"
     ]
    }
   ],
   "source": [
    "num = (4,5,2,1,3)\n",
    "\n",
    "fSet = frozenset(num)\n",
    "print('The frozen set is:', fSet)\n",
    "print('The empty frozen set is:', frozenset())\n",
    "\n",
    "# frozensets are immutable\n",
    "fSet.add('v')"
   ]
  },
  {
   "cell_type": "code",
   "execution_count": 3,
   "id": "86b05713",
   "metadata": {},
   "outputs": [
    {
     "name": "stdout",
     "output_type": "stream",
     "text": [
      "List of frozensets:  [frozenset({'apple', 'milk', 'banana'}), frozenset({'bread', 'apple'}), frozenset({'diapers', 'flour', 'milk', 'oranges'})]\n",
      "\n",
      "Dictionary of frozensets as keys:  {frozenset({'apple', 'milk', 'banana'}): 1, frozenset({'bread', 'apple'}): 2, frozenset({'diapers', 'flour', 'milk', 'oranges'}): 3}\n"
     ]
    }
   ],
   "source": [
    "list1 = frozenset(['apple','banana','milk'])\n",
    "list2 = frozenset(['bread','apple'])\n",
    "list3 = frozenset(['milk','flour','oranges','diapers'])\n",
    "\n",
    "t_keys = [list1,list2,list3]\n",
    "\n",
    "print('List of frozensets: ',t_keys)\n",
    "\n",
    "dictOfFrozensets = {t_keys[i]: i+1 for i in range(len(t_keys))}\n",
    "print('\\nDictionary of frozensets as keys: ', dictOfFrozensets)"
   ]
  },
  {
   "cell_type": "code",
   "execution_count": 4,
   "id": "50e1a6ea",
   "metadata": {},
   "outputs": [],
   "source": [
    "def create_random_hash_function(p=2**33-355, m=2**32-1):\n",
    "    a = random.randint(1,p-1)\n",
    "    b = random.randint(0, p-1)\n",
    "    return lambda x: 1 + (((a * x + b) % p) % m)"
   ]
  },
  {
   "cell_type": "code",
   "execution_count": 5,
   "id": "e2795888",
   "metadata": {},
   "outputs": [
    {
     "name": "stdout",
     "output_type": "stream",
     "text": [
      "Random hash:  {0: 2300627634, 1: 2538779774, 2: 2776931561, 3: 3015083701, 4: 3253235488}\n"
     ]
    }
   ],
   "source": [
    "h = create_random_hash_function()\n",
    "randomHash = {x:h(x) for x in range(5)}\n",
    "\n",
    "print('Random hash: ',randomHash)"
   ]
  },
  {
   "cell_type": "code",
   "execution_count": 6,
   "id": "af081a71",
   "metadata": {},
   "outputs": [
    {
     "name": "stdout",
     "output_type": "stream",
     "text": [
      "Dictionary:  {0: 0, 1: 1, 2: 2, 3: 3, 4: 4}\n"
     ]
    }
   ],
   "source": [
    "myHashKeysOrderedByValues = sorted(randomHash, key=randomHash.get)\n",
    "myDict = {myHashKeysOrderedByValues[x]:x for x in range(5)} \n",
    "print('Dictionary: ',myDict)"
   ]
  },
  {
   "cell_type": "code",
   "execution_count": 7,
   "id": "c71a09eb",
   "metadata": {},
   "outputs": [
    {
     "name": "stdout",
     "output_type": "stream",
     "text": [
      "Sorted dict by values:  {0: 0, 1: 1, 2: 2, 3: 3, 4: 4}\n",
      "\n",
      "Sorted dict by values:  OrderedDict([(0, 0), (1, 1), (2, 2), (3, 3), (4, 4)])\n",
      "\n",
      "Sorted dict by values:  {0: 0, 2: 1, 1: 2, 4: 3, 3: 4}\n",
      "\n",
      "Sorted dict by values:  OrderedDict([(0, 0), (2, 1), (1, 2), (4, 3), (3, 4)])\n",
      "\n",
      "Sorted dict by keys:  {0: 0, 1: 1, 2: 2, 3: 3, 4: 4}\n",
      "\n",
      "Sorted dict by keys:  OrderedDict([(0, 0), (1, 1), (2, 2), (3, 3), (4, 4)])\n"
     ]
    }
   ],
   "source": [
    "newDict = {k: v for k, v in sorted(myDict.items(), key=lambda item: item[1])}\n",
    "print('Sorted dict by values: ',newDict)\n",
    "\n",
    "collectionsDict = collections.OrderedDict(sorted(myDict.items(), key=lambda x: x[1]))\n",
    "print('\\nSorted dict by values: ',collectionsDict)\n",
    "\n",
    "d = {1: 2, 3: 4, 4: 3, 2: 1, 0: 0}\n",
    "newDict = {k: v for k, v in sorted(d.items(), key=lambda item: item[1])}\n",
    "print('\\nSorted dict by values: ',newDict)\n",
    "\n",
    "collectionsDict = collections.OrderedDict(sorted(d.items(), key=lambda x: x[1]))\n",
    "print('\\nSorted dict by values: ',collectionsDict)\n",
    "\n",
    "newDict = {k: v for k, v in sorted(myDict.items(), key=lambda item: item[0])}\n",
    "print('\\nSorted dict by keys: ',newDict)\n",
    "\n",
    "collectionsDict = collections.OrderedDict(sorted(myDict.items()))\n",
    "print('\\nSorted dict by keys: ',collectionsDict)"
   ]
  },
  {
   "cell_type": "code",
   "execution_count": 8,
   "id": "4758fdd9",
   "metadata": {},
   "outputs": [],
   "source": [
    "def Rand(start, end, num):\n",
    "    res = []\n",
    " \n",
    "    for j in range(num):\n",
    "        res.append(random.randint(start, end))\n",
    " \n",
    "    return res"
   ]
  },
  {
   "cell_type": "code",
   "execution_count": 9,
   "id": "850916a6",
   "metadata": {},
   "outputs": [],
   "source": [
    "num = 10\n",
    "start = 0\n",
    "end = 40\n",
    "\n",
    "L1 = Rand(start, end, num)\n",
    "L2 = Rand(start, end, num)"
   ]
  },
  {
   "cell_type": "code",
   "execution_count": 10,
   "id": "9910ee47",
   "metadata": {},
   "outputs": [
    {
     "name": "stdout",
     "output_type": "stream",
     "text": [
      "Items in L1: [32, 22, 22, 18, 34, 25, 37, 2, 20, 7]\n",
      "Items in L2: [18, 20, 37, 22, 1, 35, 24, 5, 0, 40]\n"
     ]
    }
   ],
   "source": [
    "print(\"Items in L1:\",L1)\n",
    "\n",
    "print(\"Items in L2:\",L2)"
   ]
  },
  {
   "cell_type": "code",
   "execution_count": 11,
   "id": "544d3651",
   "metadata": {},
   "outputs": [
    {
     "name": "stdout",
     "output_type": "stream",
     "text": [
      "[2, 7, 18, 20, 22, 22, 25, 32, 34, 37] [0, 1, 5, 18, 20, 22, 24, 35, 37, 40]\n",
      "-----------------Report---------------\n",
      "Intersection: 4\n",
      "Union: 15\n",
      "Jaccard Similarity: 0.26666666666666666\n"
     ]
    }
   ],
   "source": [
    "pos1 = 0\n",
    "pos2 = 0\n",
    "intersectionCounter = 0\n",
    "\n",
    "L1.sort()\n",
    "L2.sort()\n",
    "print(L1,L2)\n",
    "\n",
    "lenL1 = len(L1)\n",
    "lenL2 = len(L2)\n",
    "\n",
    "len_of_sets = len(set(L1)) + len(set(L2))\n",
    "\n",
    "while(pos1 < lenL1 and pos2 < lenL2):\n",
    "    if(L1[pos1] == L2[pos2]):\n",
    "        intersectionCounter+=1\n",
    "        pos1+=1\n",
    "        pos2+=1\n",
    "    else:\n",
    "        if(L1[pos1] < L2[pos2]):\n",
    "            pos1+=1\n",
    "        else:\n",
    "            pos2+=1\n",
    "\n",
    "unionLen = len_of_sets - intersectionCounter\n",
    "print(\"-----------------Report---------------\")\n",
    "print(\"Intersection: {}\".format(intersectionCounter))\n",
    "print(\"Union: {}\".format(unionLen))\n",
    "print(\"Jaccard Similarity: {}\".format(intersectionCounter/unionLen))"
   ]
  },
  {
   "cell_type": "code",
   "execution_count": 12,
   "id": "09724891",
   "metadata": {},
   "outputs": [
    {
     "name": "stdout",
     "output_type": "stream",
     "text": [
      "-----------------Report---------------\n",
      "Intersection: 4\n",
      "Union: 15\n",
      "Jaccard Similarity: 0.26666666666666666\n"
     ]
    }
   ],
   "source": [
    "s1 = set(L1)\n",
    "s2 = set(L2)\n",
    "inters = len(s1.intersection(s2))\n",
    "un = len(s1.union(s2))\n",
    "\n",
    "print(\"-----------------Report---------------\")\n",
    "print(\"Intersection: {}\".format(inters))\n",
    "print(\"Union: {}\".format(un))\n",
    "print(\"Jaccard Similarity: {}\".format(inters/un))"
   ]
  },
  {
   "cell_type": "code",
   "execution_count": null,
   "id": "4b85aba3",
   "metadata": {},
   "outputs": [],
   "source": []
  }
 ],
 "metadata": {
  "kernelspec": {
   "display_name": "Python 3 (ipykernel)",
   "language": "python",
   "name": "python3"
  },
  "language_info": {
   "codemirror_mode": {
    "name": "ipython",
    "version": 3
   },
   "file_extension": ".py",
   "mimetype": "text/x-python",
   "name": "python",
   "nbconvert_exporter": "python",
   "pygments_lexer": "ipython3",
   "version": "3.9.9"
  }
 },
 "nbformat": 4,
 "nbformat_minor": 5
}
