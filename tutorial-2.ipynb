{
 "cells": [
  {
   "cell_type": "code",
   "execution_count": 1,
   "id": "e9d14c20",
   "metadata": {},
   "outputs": [],
   "source": [
    "import pandas as pd\n",
    "import numpy as np\n",
    "import networkx as nx\n",
    "import matplotlib.pyplot as plt\n",
    "import snap as sn"
   ]
  },
  {
   "cell_type": "code",
   "execution_count": 2,
   "id": "0333aaba",
   "metadata": {},
   "outputs": [],
   "source": [
    "df = pd.read_csv('example.csv')"
   ]
  },
  {
   "cell_type": "code",
   "execution_count": 3,
   "id": "0805ef2d",
   "metadata": {},
   "outputs": [
    {
     "name": "stdout",
     "output_type": "stream",
     "text": [
      "   NUMBER CHAR\n",
      "0       1    a\n",
      "1       2    b\n",
      "2       3    c\n"
     ]
    }
   ],
   "source": [
    "print(df)"
   ]
  },
  {
   "cell_type": "code",
   "execution_count": 4,
   "id": "b0213048",
   "metadata": {},
   "outputs": [],
   "source": [
    "G3 = sn.GenForestFire(1000, 0.35, 0.35)\n",
    "FOut = sn.TFOut(\"test.graph\")\n",
    "G3.Save(FOut)\n",
    "FOut.Flush()"
   ]
  },
  {
   "cell_type": "code",
   "execution_count": 5,
   "id": "7a7d5257",
   "metadata": {},
   "outputs": [],
   "source": [
    "dates = pd.date_range(\"20130101\", periods=10)"
   ]
  },
  {
   "cell_type": "code",
   "execution_count": 6,
   "id": "be03709e",
   "metadata": {},
   "outputs": [],
   "source": [
    "df = pd.DataFrame(np.random.randn(10, 4), index=dates, columns=list(\"ABCD\"))"
   ]
  },
  {
   "cell_type": "code",
   "execution_count": 7,
   "id": "bff58931",
   "metadata": {},
   "outputs": [
    {
     "data": {
      "text/html": [
       "<div>\n",
       "<style scoped>\n",
       "    .dataframe tbody tr th:only-of-type {\n",
       "        vertical-align: middle;\n",
       "    }\n",
       "\n",
       "    .dataframe tbody tr th {\n",
       "        vertical-align: top;\n",
       "    }\n",
       "\n",
       "    .dataframe thead th {\n",
       "        text-align: right;\n",
       "    }\n",
       "</style>\n",
       "<table border=\"1\" class=\"dataframe\">\n",
       "  <thead>\n",
       "    <tr style=\"text-align: right;\">\n",
       "      <th></th>\n",
       "      <th>A</th>\n",
       "      <th>B</th>\n",
       "      <th>C</th>\n",
       "      <th>D</th>\n",
       "    </tr>\n",
       "  </thead>\n",
       "  <tbody>\n",
       "    <tr>\n",
       "      <th>2013-01-01</th>\n",
       "      <td>0.621070</td>\n",
       "      <td>-0.677592</td>\n",
       "      <td>2.499827</td>\n",
       "      <td>2.062364</td>\n",
       "    </tr>\n",
       "    <tr>\n",
       "      <th>2013-01-02</th>\n",
       "      <td>0.683828</td>\n",
       "      <td>-1.214989</td>\n",
       "      <td>-0.913912</td>\n",
       "      <td>0.451626</td>\n",
       "    </tr>\n",
       "    <tr>\n",
       "      <th>2013-01-03</th>\n",
       "      <td>-1.384654</td>\n",
       "      <td>-1.306842</td>\n",
       "      <td>-0.287626</td>\n",
       "      <td>-1.377744</td>\n",
       "    </tr>\n",
       "    <tr>\n",
       "      <th>2013-01-04</th>\n",
       "      <td>0.967243</td>\n",
       "      <td>0.677786</td>\n",
       "      <td>-0.962711</td>\n",
       "      <td>0.354593</td>\n",
       "    </tr>\n",
       "    <tr>\n",
       "      <th>2013-01-05</th>\n",
       "      <td>-1.117924</td>\n",
       "      <td>-0.419461</td>\n",
       "      <td>0.238847</td>\n",
       "      <td>-1.224642</td>\n",
       "    </tr>\n",
       "  </tbody>\n",
       "</table>\n",
       "</div>"
      ],
      "text/plain": [
       "                   A         B         C         D\n",
       "2013-01-01  0.621070 -0.677592  2.499827  2.062364\n",
       "2013-01-02  0.683828 -1.214989 -0.913912  0.451626\n",
       "2013-01-03 -1.384654 -1.306842 -0.287626 -1.377744\n",
       "2013-01-04  0.967243  0.677786 -0.962711  0.354593\n",
       "2013-01-05 -1.117924 -0.419461  0.238847 -1.224642"
      ]
     },
     "execution_count": 7,
     "metadata": {},
     "output_type": "execute_result"
    }
   ],
   "source": [
    "df.head()"
   ]
  },
  {
   "cell_type": "code",
   "execution_count": 8,
   "id": "ac10c94b",
   "metadata": {},
   "outputs": [
    {
     "data": {
      "text/html": [
       "<div>\n",
       "<style scoped>\n",
       "    .dataframe tbody tr th:only-of-type {\n",
       "        vertical-align: middle;\n",
       "    }\n",
       "\n",
       "    .dataframe tbody tr th {\n",
       "        vertical-align: top;\n",
       "    }\n",
       "\n",
       "    .dataframe thead th {\n",
       "        text-align: right;\n",
       "    }\n",
       "</style>\n",
       "<table border=\"1\" class=\"dataframe\">\n",
       "  <thead>\n",
       "    <tr style=\"text-align: right;\">\n",
       "      <th></th>\n",
       "      <th>A</th>\n",
       "      <th>B</th>\n",
       "      <th>C</th>\n",
       "      <th>D</th>\n",
       "    </tr>\n",
       "  </thead>\n",
       "  <tbody>\n",
       "    <tr>\n",
       "      <th>2013-01-06</th>\n",
       "      <td>0.667413</td>\n",
       "      <td>1.415734</td>\n",
       "      <td>0.917851</td>\n",
       "      <td>-0.017117</td>\n",
       "    </tr>\n",
       "    <tr>\n",
       "      <th>2013-01-07</th>\n",
       "      <td>1.521862</td>\n",
       "      <td>0.576010</td>\n",
       "      <td>-0.611740</td>\n",
       "      <td>2.546790</td>\n",
       "    </tr>\n",
       "    <tr>\n",
       "      <th>2013-01-08</th>\n",
       "      <td>1.840933</td>\n",
       "      <td>0.175313</td>\n",
       "      <td>-1.559051</td>\n",
       "      <td>-1.752383</td>\n",
       "    </tr>\n",
       "    <tr>\n",
       "      <th>2013-01-09</th>\n",
       "      <td>-2.521396</td>\n",
       "      <td>-1.144712</td>\n",
       "      <td>-1.522112</td>\n",
       "      <td>-0.977557</td>\n",
       "    </tr>\n",
       "    <tr>\n",
       "      <th>2013-01-10</th>\n",
       "      <td>0.519448</td>\n",
       "      <td>-0.053238</td>\n",
       "      <td>0.633810</td>\n",
       "      <td>-0.900674</td>\n",
       "    </tr>\n",
       "  </tbody>\n",
       "</table>\n",
       "</div>"
      ],
      "text/plain": [
       "                   A         B         C         D\n",
       "2013-01-06  0.667413  1.415734  0.917851 -0.017117\n",
       "2013-01-07  1.521862  0.576010 -0.611740  2.546790\n",
       "2013-01-08  1.840933  0.175313 -1.559051 -1.752383\n",
       "2013-01-09 -2.521396 -1.144712 -1.522112 -0.977557\n",
       "2013-01-10  0.519448 -0.053238  0.633810 -0.900674"
      ]
     },
     "execution_count": 8,
     "metadata": {},
     "output_type": "execute_result"
    }
   ],
   "source": [
    "df.tail()"
   ]
  },
  {
   "cell_type": "code",
   "execution_count": 9,
   "id": "5a2ebcfd",
   "metadata": {},
   "outputs": [
    {
     "name": "stdout",
     "output_type": "stream",
     "text": [
      "2013-01-01    0.621070\n",
      "2013-01-02    0.683828\n",
      "2013-01-03   -1.384654\n",
      "2013-01-04    0.967243\n",
      "2013-01-05   -1.117924\n",
      "2013-01-06    0.667413\n",
      "2013-01-07    1.521862\n",
      "2013-01-08    1.840933\n",
      "2013-01-09   -2.521396\n",
      "2013-01-10    0.519448\n",
      "Freq: D, Name: A, dtype: float64\n"
     ]
    }
   ],
   "source": [
    "print(df['A'])"
   ]
  },
  {
   "cell_type": "code",
   "execution_count": 10,
   "id": "9aef1de1",
   "metadata": {},
   "outputs": [
    {
     "data": {
      "text/plain": [
       "A    0.179782\n",
       "B   -0.197199\n",
       "C   -0.156682\n",
       "D   -0.083474\n",
       "dtype: float64"
      ]
     },
     "execution_count": 10,
     "metadata": {},
     "output_type": "execute_result"
    }
   ],
   "source": [
    "df.mean()"
   ]
  },
  {
   "cell_type": "code",
   "execution_count": 11,
   "id": "fb8a0624",
   "metadata": {
    "scrolled": true
   },
   "outputs": [
    {
     "data": {
      "text/plain": [
       "2013-01-01    4.505670\n",
       "2013-01-02   -0.993448\n",
       "2013-01-03   -4.356866\n",
       "2013-01-04    1.036912\n",
       "2013-01-05   -2.523179\n",
       "2013-01-06    2.983881\n",
       "2013-01-07    4.032923\n",
       "2013-01-08   -1.295187\n",
       "2013-01-09   -6.165777\n",
       "2013-01-10    0.199345\n",
       "Freq: D, dtype: float64"
      ]
     },
     "execution_count": 11,
     "metadata": {},
     "output_type": "execute_result"
    }
   ],
   "source": [
    "df.sum(axis=1)"
   ]
  },
  {
   "cell_type": "code",
   "execution_count": 12,
   "id": "f8c167c8",
   "metadata": {},
   "outputs": [
    {
     "name": "stdout",
     "output_type": "stream",
     "text": [
      "                   A         B         C         D       sum\n",
      "2013-01-01  0.621070 -0.677592  2.499827  2.062364  4.505670\n",
      "2013-01-02  0.683828 -1.214989 -0.913912  0.451626 -0.993448\n",
      "2013-01-03 -1.384654 -1.306842 -0.287626 -1.377744 -4.356866\n",
      "2013-01-04  0.967243  0.677786 -0.962711  0.354593  1.036912\n",
      "2013-01-05 -1.117924 -0.419461  0.238847 -1.224642 -2.523179\n",
      "2013-01-06  0.667413  1.415734  0.917851 -0.017117  2.983881\n",
      "2013-01-07  1.521862  0.576010 -0.611740  2.546790  4.032923\n",
      "2013-01-08  1.840933  0.175313 -1.559051 -1.752383 -1.295187\n",
      "2013-01-09 -2.521396 -1.144712 -1.522112 -0.977557 -6.165777\n",
      "2013-01-10  0.519448 -0.053238  0.633810 -0.900674  0.199345\n"
     ]
    }
   ],
   "source": [
    "df['sum'] = df.sum(axis=1)\n",
    "print(df)"
   ]
  },
  {
   "cell_type": "code",
   "execution_count": 13,
   "id": "18f05061",
   "metadata": {},
   "outputs": [
    {
     "data": {
      "text/plain": [
       "A      0.519448\n",
       "B     -0.053238\n",
       "C      0.633810\n",
       "D     -0.900674\n",
       "sum    0.199345\n",
       "Name: 2013-01-10 00:00:00, dtype: float64"
      ]
     },
     "execution_count": 13,
     "metadata": {},
     "output_type": "execute_result"
    }
   ],
   "source": [
    "df.loc['2013-01-10']"
   ]
  },
  {
   "cell_type": "code",
   "execution_count": 14,
   "id": "c16ea1f3",
   "metadata": {},
   "outputs": [
    {
     "data": {
      "text/html": [
       "<div>\n",
       "<style scoped>\n",
       "    .dataframe tbody tr th:only-of-type {\n",
       "        vertical-align: middle;\n",
       "    }\n",
       "\n",
       "    .dataframe tbody tr th {\n",
       "        vertical-align: top;\n",
       "    }\n",
       "\n",
       "    .dataframe thead th {\n",
       "        text-align: right;\n",
       "    }\n",
       "</style>\n",
       "<table border=\"1\" class=\"dataframe\">\n",
       "  <thead>\n",
       "    <tr style=\"text-align: right;\">\n",
       "      <th></th>\n",
       "      <th>A</th>\n",
       "      <th>B</th>\n",
       "      <th>C</th>\n",
       "      <th>D</th>\n",
       "      <th>sum</th>\n",
       "    </tr>\n",
       "  </thead>\n",
       "  <tbody>\n",
       "    <tr>\n",
       "      <th>2013-01-03</th>\n",
       "      <td>-1.384654</td>\n",
       "      <td>-1.306842</td>\n",
       "      <td>-0.287626</td>\n",
       "      <td>-1.377744</td>\n",
       "      <td>-4.356866</td>\n",
       "    </tr>\n",
       "    <tr>\n",
       "      <th>2013-01-04</th>\n",
       "      <td>0.967243</td>\n",
       "      <td>0.677786</td>\n",
       "      <td>-0.962711</td>\n",
       "      <td>0.354593</td>\n",
       "      <td>1.036912</td>\n",
       "    </tr>\n",
       "  </tbody>\n",
       "</table>\n",
       "</div>"
      ],
      "text/plain": [
       "                   A         B         C         D       sum\n",
       "2013-01-03 -1.384654 -1.306842 -0.287626 -1.377744 -4.356866\n",
       "2013-01-04  0.967243  0.677786 -0.962711  0.354593  1.036912"
      ]
     },
     "execution_count": 14,
     "metadata": {},
     "output_type": "execute_result"
    }
   ],
   "source": [
    "df.iloc[2:4]"
   ]
  },
  {
   "cell_type": "code",
   "execution_count": 15,
   "id": "bacb70c8",
   "metadata": {},
   "outputs": [
    {
     "name": "stdout",
     "output_type": "stream",
     "text": [
      "Number of rows with column C < 0 is 6.\n"
     ]
    }
   ],
   "source": [
    "counter = 0\n",
    "for idx,row in df.iterrows():\n",
    "    if row.C < 0: # ή row['C'] > 0\n",
    "        counter += 1\n",
    "        df.loc[idx,'group']='negative'\n",
    "    elif row.C < 0.5:\n",
    "        df.loc[idx,'group']='small'\n",
    "    elif row.C < 1:\n",
    "        df.loc[idx,'group']='medium'\n",
    "    else:\n",
    "        df.loc[idx,'group']='large'\n",
    "        \n",
    "        \n",
    "print(\"Number of rows with column C < 0 is {}.\".format(counter))"
   ]
  },
  {
   "cell_type": "code",
   "execution_count": 16,
   "id": "1333e837",
   "metadata": {
    "scrolled": true
   },
   "outputs": [
    {
     "name": "stdout",
     "output_type": "stream",
     "text": [
      "                   A         B         C         D       sum     group\n",
      "2013-01-01  0.621070 -0.677592  2.499827  2.062364  4.505670     large\n",
      "2013-01-02  0.683828 -1.214989 -0.913912  0.451626 -0.993448  negative\n",
      "2013-01-04  0.967243  0.677786 -0.962711  0.354593  1.036912  negative\n",
      "2013-01-06  0.667413  1.415734  0.917851 -0.017117  2.983881    medium\n",
      "2013-01-07  1.521862  0.576010 -0.611740  2.546790  4.032923  negative\n",
      "2013-01-08  1.840933  0.175313 -1.559051 -1.752383 -1.295187  negative\n",
      "2013-01-10  0.519448 -0.053238  0.633810 -0.900674  0.199345    medium\n"
     ]
    }
   ],
   "source": [
    "df2 = df[df['A'] > 0.5]\n",
    "print(df2)"
   ]
  },
  {
   "cell_type": "code",
   "execution_count": 18,
   "id": "c6ef2ec4",
   "metadata": {},
   "outputs": [
    {
     "name": "stdout",
     "output_type": "stream",
     "text": [
      "                   A         B         C         D       sum     group\n",
      "2013-01-01  0.621070 -0.677592  2.499827  2.062364  4.505670     large\n",
      "2013-01-02  0.683828 -1.214989 -0.913912  0.451626 -0.993448  negative\n",
      "2013-01-03 -1.384654 -1.306842 -0.287626 -1.377744 -4.356866  negative\n",
      "2013-01-04  0.967243  0.677786 -0.962711  0.354593  1.036912  negative\n",
      "2013-01-05 -1.117924 -0.419461  0.238847 -1.224642 -2.523179     small\n",
      "2013-01-06  0.667413  1.415734  0.917851 -0.017117  2.983881    medium\n",
      "2013-01-07  1.521862  0.576010 -0.611740  2.546790  4.032923  negative\n",
      "2013-01-08  1.840933  0.175313 -1.559051 -1.752383 -1.295187  negative\n",
      "2013-01-09 -2.521396 -1.144712 -1.522112 -0.977557 -6.165777  negative\n",
      "2013-01-10  0.519448 -0.053238  0.633810 -0.900674  0.199345    medium\n"
     ]
    }
   ],
   "source": [
    "print(df)"
   ]
  },
  {
   "cell_type": "code",
   "execution_count": 20,
   "id": "cd95a388",
   "metadata": {},
   "outputs": [],
   "source": [
    "group_df = df[['A','B','C']].groupby(df['group']).mean()"
   ]
  },
  {
   "cell_type": "code",
   "execution_count": 21,
   "id": "f9060a61",
   "metadata": {},
   "outputs": [
    {
     "name": "stdout",
     "output_type": "stream",
     "text": [
      "                 A         B         C\n",
      "group                                 \n",
      "large     0.621070 -0.677592  2.499827\n",
      "medium    0.593430  0.681248  0.775831\n",
      "negative  0.184636 -0.372906 -0.976192\n",
      "small    -1.117924 -0.419461  0.238847\n"
     ]
    }
   ],
   "source": [
    "print(group_df)"
   ]
  },
  {
   "cell_type": "code",
   "execution_count": 29,
   "id": "c35b335b",
   "metadata": {},
   "outputs": [],
   "source": [
    "graph_df = pd.read_csv('graph.txt', sep=\" \", header=None)\n",
    "graph_df.columns = ['edge1','edge2']"
   ]
  },
  {
   "cell_type": "code",
   "execution_count": 30,
   "id": "cce26d7c",
   "metadata": {},
   "outputs": [
    {
     "name": "stdout",
     "output_type": "stream",
     "text": [
      "   edge1  edge2\n",
      "0      1      2\n",
      "1      1      3\n",
      "2      2      3\n",
      "3      2      4\n",
      "4      3      4\n",
      "5      3      5\n",
      "6      4      6\n",
      "7      5      6\n"
     ]
    }
   ],
   "source": [
    "print(graph_df)"
   ]
  },
  {
   "cell_type": "code",
   "execution_count": 34,
   "id": "aa87c504",
   "metadata": {},
   "outputs": [],
   "source": [
    "G_directed = nx.from_pandas_edgelist(graph_df,source='edge1',target='edge2',edge_attr=None,create_using=nx.DiGraph())\n",
    "G_undir = nx.from_pandas_edgelist(graph_df,source='edge1',target='edge2')"
   ]
  },
  {
   "cell_type": "code",
   "execution_count": 35,
   "id": "0ae76a6d",
   "metadata": {},
   "outputs": [
    {
     "data": {
      "image/png": "[encoded data removed]",
      "text/plain": [
       "<Figure size 432x288 with 1 Axes>"
      ]
     },
     "metadata": {},
     "output_type": "display_data"
    }
   ],
   "source": [
    "nx.draw_networkx(G_directed)"
   ]
  },
  {
   "cell_type": "code",
   "execution_count": 36,
   "id": "51c533e7",
   "metadata": {},
   "outputs": [
    {
     "data": {
      "image/png": "[encoded data removed]",
      "text/plain": [
       "<Figure size 432x288 with 1 Axes>"
      ]
     },
     "metadata": {},
     "output_type": "display_data"
    }
   ],
   "source": [
    "nx.draw_networkx(G_undir)"
   ]
  },
  {
   "cell_type": "code",
   "execution_count": 60,
   "id": "6ac44e4a",
   "metadata": {},
   "outputs": [
    {
     "data": {
      "image/png": "[encoded data removed]",
      "text/plain": [
       "<Figure size 432x288 with 1 Axes>"
      ]
     },
     "metadata": {},
     "output_type": "display_data"
    }
   ],
   "source": [
    "G2 = nx.read_edgelist('graph.txt')\n",
    "nx.draw_networkx(G2)"
   ]
  },
  {
   "cell_type": "code",
   "execution_count": 61,
   "id": "aae8e4f7",
   "metadata": {},
   "outputs": [
    {
     "data": {
      "image/png": "[encoded data removed]",
      "text/plain": [
       "<Figure size 432x288 with 1 Axes>"
      ]
     },
     "metadata": {},
     "output_type": "display_data"
    }
   ],
   "source": [
    "G2.add_edge('1','7')\n",
    "G2.add_node('Alice')\n",
    "nx.draw_networkx(G2)"
   ]
  },
  {
   "cell_type": "code",
   "execution_count": 62,
   "id": "d8e4ea0f",
   "metadata": {},
   "outputs": [
    {
     "data": {
      "image/png": "[encoded data removed]",
      "text/plain": [
       "<Figure size 432x288 with 1 Axes>"
      ]
     },
     "metadata": {},
     "output_type": "display_data"
    }
   ],
   "source": [
    "G2.remove_edge('3','1')\n",
    "G2.remove_node('Alice')\n",
    "\n",
    "nx.draw_networkx(G2)"
   ]
  },
  {
   "cell_type": "code",
   "execution_count": null,
   "id": "ac739052",
   "metadata": {},
   "outputs": [],
   "source": []
  }
 ],
 "metadata": {
  "kernelspec": {
   "display_name": "Python 3 (ipykernel)",
   "language": "python",
   "name": "python3"
  },
  "language_info": {
   "codemirror_mode": {
    "name": "ipython",
    "version": 3
   },
   "file_extension": ".py",
   "mimetype": "text/x-python",
   "name": "python",
   "nbconvert_exporter": "python",
   "pygments_lexer": "ipython3",
   "version": "3.9.9"
  }
 },
 "nbformat": 4,
 "nbformat_minor": 5
}
